{
 "cells": [
  {
   "cell_type": "code",
   "execution_count": 1,
   "metadata": {},
   "outputs": [],
   "source": [
    "import pairTrade\n",
    "from pairTrade import pairTrade\n",
    "import pandas as pd\n",
    "import warnings\n",
    "import pandas.util.testing as tm\n",
    "from matplotlib import pyplot as plt\n",
    "import statsmodels.tsa.stattools as ts \n",
    "warnings.filterwarnings('ignore')\n",
    "\n",
    "symbols = pd.read_csv(f\"/Users/jochien/Documents/MaxRereach/pair-trade/rawdata/1D/symbols.csv\").symbol.tolist()\n",
    "df = ((pd.concat([pd.read_csv(f\"/Users/jochien/Documents/MaxRereach/pair-trade/rawdata/1D/{symbol}.csv\", index_col='date', parse_dates=True)\n",
    "        ['close'].rename(symbol)for symbol in symbols],axis=1,sort=True)))\n",
    "df = df.loc[:,~df.columns.duplicated()]"
   ]
  },
  {
   "cell_type": "code",
   "execution_count": null,
   "metadata": {},
   "outputs": [],
   "source": [
    "norm_prices = df.divide(df.iloc[0])\n",
    "\n",
    "plt.figure(figsize = (15, 10))\n",
    "plt.plot(norm_prices)\n",
    "plt.xlabel('days')\n",
    "plt.title('Performance of cryptocurrencies')\n",
    "plt.legend(symbols)\n",
    "plt.show()\n",
    "\n",
    "result_list = []\n",
    "for a1 in df.columns:\n",
    "    for a2 in df.columns:\n",
    "        if a1 != a2:\n",
    "            test_result = ts.coint(df[a1], df[a2])\n",
    "            if test_result[1] < 0.05:\n",
    "                print(a1 + ' and ' + a2 + ': p-value = ' + str(test_result[1]))\n",
    "                result_list.append((a1, a2, test_result[1]))"
   ]
  },
  {
   "cell_type": "markdown",
   "metadata": {},
   "source": [
    "* tradeType(ratio, spread, returnSpread, regression)\n",
    "* strategyType: convergence 收斂策略, divergence 發散策略\n",
    "* actionType: amount等金額購買, unit依比例購買\n",
    "* entry 進場條件\n",
    "* exit 出場條件\n",
    "* stopLoss 訊號停損\n",
    "* singalStopLoss{固定停利停損 : stopLoss, 移動停利停損 : trailingStop, 時間停利停損 : timeStop} \n",
    "* stopLossPara 停損參數 : stopLoss 固定停利停損點位, trailingStop 移動停利停損點位, timeStop 時間停利停損時間間隔"
   ]
  },
  {
   "cell_type": "markdown",
   "metadata": {},
   "source": [
    "# Ratio"
   ]
  },
  {
   "cell_type": "markdown",
   "metadata": {},
   "source": [
    "### singal stoploss"
   ]
  },
  {
   "cell_type": "code",
   "execution_count": 2,
   "metadata": {},
   "outputs": [
    {
     "name": "stdout",
     "output_type": "stream",
     "text": [
      "BTCUSDT_ETHUSDT 回測結果，場上有單已平倉\n",
      "-----------------------------BTCUSDT-ETHUSDT--------------------------\n",
      "初始價格 100000\n",
      "總損益:  -40690.68240988\n",
      "總交易次數:  44\n",
      "平均損益:  -924.7882365881923\n",
      "勝率:  0.5909090909090909\n",
      "獲利因子:  0.5580094685579287\n",
      "賺賠比:  0.38631424746318144\n",
      "最大資金回落:  55037.76598679693\n",
      "夏普比率:  -0.16891929048683527\n"
     ]
    },
    {
     "ename": "KeyError",
     "evalue": "'priceRatio'",
     "output_type": "error",
     "traceback": [
      "\u001b[0;31m---------------------------------------------------------------------------\u001b[0m",
      "\u001b[0;31mKeyError\u001b[0m                                  Traceback (most recent call last)",
      "\u001b[0;32m~/opt/anaconda3/lib/python3.9/site-packages/pandas/core/indexes/base.py\u001b[0m in \u001b[0;36mget_loc\u001b[0;34m(self, key, method, tolerance)\u001b[0m\n\u001b[1;32m   3360\u001b[0m             \u001b[0;32mtry\u001b[0m\u001b[0;34m:\u001b[0m\u001b[0;34m\u001b[0m\u001b[0;34m\u001b[0m\u001b[0m\n\u001b[0;32m-> 3361\u001b[0;31m                 \u001b[0;32mreturn\u001b[0m \u001b[0mself\u001b[0m\u001b[0;34m.\u001b[0m\u001b[0m_engine\u001b[0m\u001b[0;34m.\u001b[0m\u001b[0mget_loc\u001b[0m\u001b[0;34m(\u001b[0m\u001b[0mcasted_key\u001b[0m\u001b[0;34m)\u001b[0m\u001b[0;34m\u001b[0m\u001b[0;34m\u001b[0m\u001b[0m\n\u001b[0m\u001b[1;32m   3362\u001b[0m             \u001b[0;32mexcept\u001b[0m \u001b[0mKeyError\u001b[0m \u001b[0;32mas\u001b[0m \u001b[0merr\u001b[0m\u001b[0;34m:\u001b[0m\u001b[0;34m\u001b[0m\u001b[0;34m\u001b[0m\u001b[0m\n",
      "\u001b[0;32m~/opt/anaconda3/lib/python3.9/site-packages/pandas/_libs/index.pyx\u001b[0m in \u001b[0;36mpandas._libs.index.IndexEngine.get_loc\u001b[0;34m()\u001b[0m\n",
      "\u001b[0;32m~/opt/anaconda3/lib/python3.9/site-packages/pandas/_libs/index.pyx\u001b[0m in \u001b[0;36mpandas._libs.index.IndexEngine.get_loc\u001b[0;34m()\u001b[0m\n",
      "\u001b[0;32mpandas/_libs/hashtable_class_helper.pxi\u001b[0m in \u001b[0;36mpandas._libs.hashtable.PyObjectHashTable.get_item\u001b[0;34m()\u001b[0m\n",
      "\u001b[0;32mpandas/_libs/hashtable_class_helper.pxi\u001b[0m in \u001b[0;36mpandas._libs.hashtable.PyObjectHashTable.get_item\u001b[0;34m()\u001b[0m\n",
      "\u001b[0;31mKeyError\u001b[0m: 'priceRatio'",
      "\nThe above exception was the direct cause of the following exception:\n",
      "\u001b[0;31mKeyError\u001b[0m                                  Traceback (most recent call last)",
      "\u001b[0;32m/var/folders/2j/lxqmn2g17532zb7s9cbfcmbw0000gn/T/ipykernel_54354/451595782.py\u001b[0m in \u001b[0;36m<module>\u001b[0;34m\u001b[0m\n\u001b[1;32m      5\u001b[0m \u001b[0mA\u001b[0m\u001b[0;34m.\u001b[0m\u001b[0mindicator\u001b[0m\u001b[0;34m(\u001b[0m\u001b[0mtradeType\u001b[0m \u001b[0;34m=\u001b[0m \u001b[0;34m'priceRatio'\u001b[0m\u001b[0;34m)\u001b[0m\u001b[0;34m\u001b[0m\u001b[0;34m\u001b[0m\u001b[0m\n\u001b[1;32m      6\u001b[0m \u001b[0mA\u001b[0m\u001b[0;34m.\u001b[0m\u001b[0mstrategy\u001b[0m\u001b[0;34m(\u001b[0m\u001b[0mstrategyType\u001b[0m \u001b[0;34m=\u001b[0m \u001b[0;34m'convergence'\u001b[0m\u001b[0;34m,\u001b[0m \u001b[0mactionType\u001b[0m \u001b[0;34m=\u001b[0m \u001b[0;34m'amount'\u001b[0m\u001b[0;34m,\u001b[0m \u001b[0mentry\u001b[0m \u001b[0;34m=\u001b[0m \u001b[0;36m1\u001b[0m\u001b[0;34m,\u001b[0m \u001b[0mexit\u001b[0m \u001b[0;34m=\u001b[0m \u001b[0;36m0.2\u001b[0m\u001b[0;34m,\u001b[0m \u001b[0msignalStopLoss\u001b[0m \u001b[0;34m=\u001b[0m \u001b[0;32mNone\u001b[0m\u001b[0;34m)\u001b[0m\u001b[0;34m\u001b[0m\u001b[0;34m\u001b[0m\u001b[0m\n\u001b[0;32m----> 7\u001b[0;31m \u001b[0mA\u001b[0m\u001b[0;34m.\u001b[0m\u001b[0mpplot\u001b[0m\u001b[0;34m(\u001b[0m\u001b[0;34m)\u001b[0m\u001b[0;34m\u001b[0m\u001b[0;34m\u001b[0m\u001b[0m\n\u001b[0m",
      "\u001b[0;32m~/Documents/MaxRereach/pair-trade/pairTrade.py\u001b[0m in \u001b[0;36mpplot\u001b[0;34m(self)\u001b[0m\n\u001b[1;32m    249\u001b[0m         \u001b[0mAsym\u001b[0m \u001b[0;34m=\u001b[0m \u001b[0mself\u001b[0m\u001b[0;34m.\u001b[0m\u001b[0mdf\u001b[0m\u001b[0;34m[\u001b[0m\u001b[0mself\u001b[0m\u001b[0;34m.\u001b[0m\u001b[0mA_Symbol\u001b[0m\u001b[0;34m]\u001b[0m\u001b[0;34m\u001b[0m\u001b[0;34m\u001b[0m\u001b[0m\n\u001b[1;32m    250\u001b[0m         \u001b[0mBsym\u001b[0m \u001b[0;34m=\u001b[0m \u001b[0mself\u001b[0m\u001b[0;34m.\u001b[0m\u001b[0mdf\u001b[0m\u001b[0;34m[\u001b[0m\u001b[0mself\u001b[0m\u001b[0;34m.\u001b[0m\u001b[0mB_Symbol\u001b[0m\u001b[0;34m]\u001b[0m\u001b[0;34m\u001b[0m\u001b[0;34m\u001b[0m\u001b[0m\n\u001b[0;32m--> 251\u001b[0;31m         \u001b[0mindicate\u001b[0m \u001b[0;34m=\u001b[0m \u001b[0mself\u001b[0m\u001b[0;34m.\u001b[0m\u001b[0mdf\u001b[0m\u001b[0;34m[\u001b[0m\u001b[0mself\u001b[0m\u001b[0;34m.\u001b[0m\u001b[0mtradeType\u001b[0m\u001b[0;34m]\u001b[0m\u001b[0;34m\u001b[0m\u001b[0;34m\u001b[0m\u001b[0m\n\u001b[0m\u001b[1;32m    252\u001b[0m         \u001b[0mtotal\u001b[0m \u001b[0;34m=\u001b[0m \u001b[0mself\u001b[0m\u001b[0;34m.\u001b[0m\u001b[0mdf\u001b[0m\u001b[0;34m[\u001b[0m\u001b[0;34m'total'\u001b[0m\u001b[0;34m]\u001b[0m\u001b[0;34m\u001b[0m\u001b[0;34m\u001b[0m\u001b[0m\n\u001b[1;32m    253\u001b[0m         \u001b[0mzscore\u001b[0m \u001b[0;34m=\u001b[0m \u001b[0mself\u001b[0m\u001b[0;34m.\u001b[0m\u001b[0mdf\u001b[0m\u001b[0;34m[\u001b[0m\u001b[0;34m'zscore'\u001b[0m\u001b[0;34m]\u001b[0m\u001b[0;34m\u001b[0m\u001b[0;34m\u001b[0m\u001b[0m\n",
      "\u001b[0;32m~/opt/anaconda3/lib/python3.9/site-packages/pandas/core/frame.py\u001b[0m in \u001b[0;36m__getitem__\u001b[0;34m(self, key)\u001b[0m\n\u001b[1;32m   3456\u001b[0m             \u001b[0;32mif\u001b[0m \u001b[0mself\u001b[0m\u001b[0;34m.\u001b[0m\u001b[0mcolumns\u001b[0m\u001b[0;34m.\u001b[0m\u001b[0mnlevels\u001b[0m \u001b[0;34m>\u001b[0m \u001b[0;36m1\u001b[0m\u001b[0;34m:\u001b[0m\u001b[0;34m\u001b[0m\u001b[0;34m\u001b[0m\u001b[0m\n\u001b[1;32m   3457\u001b[0m                 \u001b[0;32mreturn\u001b[0m \u001b[0mself\u001b[0m\u001b[0;34m.\u001b[0m\u001b[0m_getitem_multilevel\u001b[0m\u001b[0;34m(\u001b[0m\u001b[0mkey\u001b[0m\u001b[0;34m)\u001b[0m\u001b[0;34m\u001b[0m\u001b[0;34m\u001b[0m\u001b[0m\n\u001b[0;32m-> 3458\u001b[0;31m             \u001b[0mindexer\u001b[0m \u001b[0;34m=\u001b[0m \u001b[0mself\u001b[0m\u001b[0;34m.\u001b[0m\u001b[0mcolumns\u001b[0m\u001b[0;34m.\u001b[0m\u001b[0mget_loc\u001b[0m\u001b[0;34m(\u001b[0m\u001b[0mkey\u001b[0m\u001b[0;34m)\u001b[0m\u001b[0;34m\u001b[0m\u001b[0;34m\u001b[0m\u001b[0m\n\u001b[0m\u001b[1;32m   3459\u001b[0m             \u001b[0;32mif\u001b[0m \u001b[0mis_integer\u001b[0m\u001b[0;34m(\u001b[0m\u001b[0mindexer\u001b[0m\u001b[0;34m)\u001b[0m\u001b[0;34m:\u001b[0m\u001b[0;34m\u001b[0m\u001b[0;34m\u001b[0m\u001b[0m\n\u001b[1;32m   3460\u001b[0m                 \u001b[0mindexer\u001b[0m \u001b[0;34m=\u001b[0m \u001b[0;34m[\u001b[0m\u001b[0mindexer\u001b[0m\u001b[0;34m]\u001b[0m\u001b[0;34m\u001b[0m\u001b[0;34m\u001b[0m\u001b[0m\n",
      "\u001b[0;32m~/opt/anaconda3/lib/python3.9/site-packages/pandas/core/indexes/base.py\u001b[0m in \u001b[0;36mget_loc\u001b[0;34m(self, key, method, tolerance)\u001b[0m\n\u001b[1;32m   3361\u001b[0m                 \u001b[0;32mreturn\u001b[0m \u001b[0mself\u001b[0m\u001b[0;34m.\u001b[0m\u001b[0m_engine\u001b[0m\u001b[0;34m.\u001b[0m\u001b[0mget_loc\u001b[0m\u001b[0;34m(\u001b[0m\u001b[0mcasted_key\u001b[0m\u001b[0;34m)\u001b[0m\u001b[0;34m\u001b[0m\u001b[0;34m\u001b[0m\u001b[0m\n\u001b[1;32m   3362\u001b[0m             \u001b[0;32mexcept\u001b[0m \u001b[0mKeyError\u001b[0m \u001b[0;32mas\u001b[0m \u001b[0merr\u001b[0m\u001b[0;34m:\u001b[0m\u001b[0;34m\u001b[0m\u001b[0;34m\u001b[0m\u001b[0m\n\u001b[0;32m-> 3363\u001b[0;31m                 \u001b[0;32mraise\u001b[0m \u001b[0mKeyError\u001b[0m\u001b[0;34m(\u001b[0m\u001b[0mkey\u001b[0m\u001b[0;34m)\u001b[0m \u001b[0;32mfrom\u001b[0m \u001b[0merr\u001b[0m\u001b[0;34m\u001b[0m\u001b[0;34m\u001b[0m\u001b[0m\n\u001b[0m\u001b[1;32m   3364\u001b[0m \u001b[0;34m\u001b[0m\u001b[0m\n\u001b[1;32m   3365\u001b[0m         \u001b[0;32mif\u001b[0m \u001b[0mis_scalar\u001b[0m\u001b[0;34m(\u001b[0m\u001b[0mkey\u001b[0m\u001b[0;34m)\u001b[0m \u001b[0;32mand\u001b[0m \u001b[0misna\u001b[0m\u001b[0;34m(\u001b[0m\u001b[0mkey\u001b[0m\u001b[0;34m)\u001b[0m \u001b[0;32mand\u001b[0m \u001b[0;32mnot\u001b[0m \u001b[0mself\u001b[0m\u001b[0;34m.\u001b[0m\u001b[0mhasnans\u001b[0m\u001b[0;34m:\u001b[0m\u001b[0;34m\u001b[0m\u001b[0;34m\u001b[0m\u001b[0m\n",
      "\u001b[0;31mKeyError\u001b[0m: 'priceRatio'"
     ]
    }
   ],
   "source": [
    "# for i in result_list[:1]:\n",
    "# df1 = df[[i[0], i[1]]]\n",
    "df1 = df[['BTCUSDT', 'ETHUSDT']]\n",
    "A = pairTrade(df1)\n",
    "A.indicator(tradeType = 'priceRatio')\n",
    "A.strategy(strategyType = 'convergence', actionType = 'amount', entry = 1, exit = 0.2, signalStopLoss = None)\n",
    "A.pplot()"
   ]
  },
  {
   "cell_type": "code",
   "execution_count": null,
   "metadata": {},
   "outputs": [],
   "source": [
    "A.df"
   ]
  },
  {
   "cell_type": "code",
   "execution_count": null,
   "metadata": {},
   "outputs": [],
   "source": [
    "max(A.df['zscore'].dropna())"
   ]
  },
  {
   "cell_type": "code",
   "execution_count": null,
   "metadata": {},
   "outputs": [],
   "source": [
    "A.df['zscore'].dropna()"
   ]
  },
  {
   "cell_type": "markdown",
   "metadata": {},
   "source": [
    "### stopLoss"
   ]
  },
  {
   "cell_type": "code",
   "execution_count": null,
   "metadata": {},
   "outputs": [],
   "source": [
    "df1 = df[['MATICUSDT', 'ATOMUSDT']]\n",
    "A = pairTrade(df1)\n",
    "A.indicator(tradeType = 'ratio')\n",
    "A.strategy(strategyType = 'divergence', actionType = 'amount', entry = 1, exit = 0.2, signalStopLoss = 1.2, stopLossType = 'stopLoss', stopLossPara = 0.08)\n",
    "A.pplot()"
   ]
  },
  {
   "cell_type": "markdown",
   "metadata": {},
   "source": [
    "### trailingStop"
   ]
  },
  {
   "cell_type": "code",
   "execution_count": null,
   "metadata": {},
   "outputs": [],
   "source": [
    "df1 = df[['MATICUSDT', 'ATOMUSDT']]\n",
    "A = pairTrade(df1)\n",
    "A.indicator(tradeType = 'ratio')\n",
    "A.strategy(strategyType = 'divergence', actionType = 'amount', entry = 1, exit = 0.2, signalStopLoss = 1.2, stopLossType = 'trailingStop', stopLossPara = 0.08)\n",
    "A.pplot()"
   ]
  },
  {
   "cell_type": "markdown",
   "metadata": {},
   "source": [
    "### timeStop"
   ]
  },
  {
   "cell_type": "code",
   "execution_count": null,
   "metadata": {},
   "outputs": [],
   "source": [
    "df1 = df[['MATICUSDT', 'ATOMUSDT']]\n",
    "A = pairTrade(df1)\n",
    "A.indicator(tradeType = 'ratio')\n",
    "A.strategy(strategyType = 'divergence', actionType = 'amount', entry = 1, exit = 0.2, signalStopLoss = 1.2, stopLossType = 'timeStop', stopLossPara = 3)\n",
    "A.pplot()"
   ]
  },
  {
   "cell_type": "markdown",
   "metadata": {},
   "source": [
    "# Spread"
   ]
  },
  {
   "cell_type": "markdown",
   "metadata": {},
   "source": [
    "### singal stoploss"
   ]
  },
  {
   "cell_type": "code",
   "execution_count": null,
   "metadata": {},
   "outputs": [],
   "source": [
    "# for i in result_list[:1]:\n",
    "# df1 = df[[i[0], i[1]]]\n",
    "df1 = df[['MATICUSDT', 'ATOMUSDT']]\n",
    "A = pairTrade(df1)\n",
    "A.indicator(tradeType = 'spread')\n",
    "A.strategy(strategyType = 'divergence', actionType = 'amount', entry = 1, exit = 0.2, signalStopLoss = 1.2)\n",
    "A.pplot()"
   ]
  },
  {
   "cell_type": "markdown",
   "metadata": {},
   "source": [
    "### stopLoss"
   ]
  },
  {
   "cell_type": "code",
   "execution_count": null,
   "metadata": {},
   "outputs": [],
   "source": [
    "df1 = df[['MATICUSDT', 'ATOMUSDT']]\n",
    "A = pairTrade(df1)\n",
    "A.indicator(tradeType = 'spread')\n",
    "A.strategy(strategyType = 'divergence', actionType = 'amount', entry = 1, exit = 0.2, signalStopLoss = 1.2, stopLossType = 'stopLoss', stopLossPara = 0.08)\n",
    "A.pplot()"
   ]
  },
  {
   "cell_type": "markdown",
   "metadata": {},
   "source": [
    "### trailingStop"
   ]
  },
  {
   "cell_type": "code",
   "execution_count": null,
   "metadata": {},
   "outputs": [],
   "source": [
    "df1 = df[['MATICUSDT', 'ATOMUSDT']]\n",
    "A = pairTrade(df1)\n",
    "A.indicator(tradeType = 'spread')\n",
    "A.strategy(strategyType = 'divergence', actionType = 'amount', entry = 1, exit = 0.2, signalStopLoss = 1.2, stopLossType = 'trailingStop', stopLossPara = 0.08)\n",
    "A.pplot()"
   ]
  },
  {
   "cell_type": "markdown",
   "metadata": {},
   "source": [
    "### timeStop"
   ]
  },
  {
   "cell_type": "code",
   "execution_count": null,
   "metadata": {},
   "outputs": [],
   "source": [
    "df1 = df[['MATICUSDT', 'ATOMUSDT']]\n",
    "A = pairTrade(df1)\n",
    "A.indicator(tradeType = 'spread')\n",
    "A.strategy(strategyType = 'divergence', actionType = 'amount', entry = 1, exit = 0.2, signalStopLoss = 1.2, stopLossType = 'timeStop', stopLossPara = 3)\n",
    "A.pplot()"
   ]
  },
  {
   "cell_type": "markdown",
   "metadata": {},
   "source": [
    "# returnSpread"
   ]
  },
  {
   "cell_type": "markdown",
   "metadata": {},
   "source": [
    "### singal stoploss"
   ]
  },
  {
   "cell_type": "code",
   "execution_count": null,
   "metadata": {},
   "outputs": [],
   "source": [
    "# for i in result_list[:1]:\n",
    "# df1 = df[[i[0], i[1]]]\n",
    "df1 = df[['MATICUSDT', 'ATOMUSDT']]\n",
    "A = pairTrade(df1)\n",
    "A.indicator(tradeType = 'returnSpread')\n",
    "A.strategy(strategyType = 'divergence', actionType = 'amount', entry = 1, exit = 0.2, signalStopLoss = 1.2)\n",
    "A.pplot()"
   ]
  },
  {
   "cell_type": "markdown",
   "metadata": {},
   "source": [
    "### stopLoss"
   ]
  },
  {
   "cell_type": "code",
   "execution_count": null,
   "metadata": {},
   "outputs": [],
   "source": [
    "df1 = df[['MATICUSDT', 'ATOMUSDT']]\n",
    "A = pairTrade(df1)\n",
    "A.indicator(tradeType = 'returnSpread')\n",
    "A.strategy(strategyType = 'divergence', actionType = 'amount', entry = 1, exit = 0.2, signalStopLoss = 1.2, stopLossType = 'stopLoss', stopLossPara = 0.08)\n",
    "A.pplot()"
   ]
  },
  {
   "cell_type": "markdown",
   "metadata": {},
   "source": [
    "### trailingStop"
   ]
  },
  {
   "cell_type": "code",
   "execution_count": null,
   "metadata": {
    "scrolled": true
   },
   "outputs": [],
   "source": [
    "df1 = df[['MATICUSDT', 'ATOMUSDT']]\n",
    "A = pairTrade(df1)\n",
    "A.indicator(tradeType = 'returnSpread')\n",
    "A.strategy(strategyType = 'divergence', actionType = 'amount', entry = 1, exit = 0.2, signalStopLoss = 1.2, stopLossType = 'trailingStop', stopLossPara = 0.08)\n",
    "A.pplot()"
   ]
  },
  {
   "cell_type": "markdown",
   "metadata": {},
   "source": [
    "### timeStop"
   ]
  },
  {
   "cell_type": "code",
   "execution_count": null,
   "metadata": {},
   "outputs": [],
   "source": [
    "df1 = df[['MATICUSDT', 'ATOMUSDT']]\n",
    "A = pairTrade(df1)\n",
    "A.indicator(tradeType = 'returnSpread')\n",
    "A.strategy(strategyType = 'divergence', actionType = 'amount', entry = 1, exit = 0.2, signalStopLoss = 1.2, stopLossType = 'timeStop', stopLossPara = 3)\n",
    "A.pplot()"
   ]
  },
  {
   "cell_type": "markdown",
   "metadata": {},
   "source": [
    "# regression"
   ]
  },
  {
   "cell_type": "markdown",
   "metadata": {},
   "source": [
    "### singal stoploss"
   ]
  },
  {
   "cell_type": "code",
   "execution_count": null,
   "metadata": {},
   "outputs": [],
   "source": [
    "# for i in result_list[:1]:\n",
    "# df1 = df[[i[0], i[1]]]\n",
    "df1 = df[['MATICUSDT', 'ATOMUSDT']]\n",
    "A = pairTrade(df1)\n",
    "A.indicator(tradeType = 'regression')\n",
    "A.strategy(strategyType = 'divergence', actionType = 'unit', entry = 1, exit = 0.2, signalStopLoss = 1.2)\n",
    "A.pplot()"
   ]
  },
  {
   "cell_type": "markdown",
   "metadata": {},
   "source": [
    "### stopLoss"
   ]
  },
  {
   "cell_type": "code",
   "execution_count": null,
   "metadata": {},
   "outputs": [],
   "source": [
    "df1 = df[['MATICUSDT', 'ATOMUSDT']]\n",
    "A = pairTrade(df1)\n",
    "A.indicator(tradeType = 'regression')\n",
    "A.strategy(strategyType = 'divergence', actionType = 'unit', entry = 1, exit = 0.2, signalStopLoss = 1.2, stopLossType = 'stopLoss', stopLossPara = 0.08)\n",
    "A.pplot()"
   ]
  },
  {
   "cell_type": "markdown",
   "metadata": {},
   "source": [
    "### trailingStop"
   ]
  },
  {
   "cell_type": "code",
   "execution_count": null,
   "metadata": {},
   "outputs": [],
   "source": [
    "df1 = df[['MATICUSDT', 'ATOMUSDT']]\n",
    "A = pairTrade(df1)\n",
    "A.indicator(tradeType = 'regression')\n",
    "A.strategy(strategyType = 'divergence', actionType = 'unit', entry = 1, exit = 0.2, signalStopLoss = 1.2, stopLossType = 'trailingStop', stopLossPara = 0.08)\n",
    "A.pplot()"
   ]
  },
  {
   "cell_type": "markdown",
   "metadata": {},
   "source": [
    "### timeStop"
   ]
  },
  {
   "cell_type": "code",
   "execution_count": null,
   "metadata": {},
   "outputs": [],
   "source": [
    "df1 = df[['MATICUSDT', 'ATOMUSDT']]\n",
    "A = pairTrade(df1)\n",
    "A.indicator(tradeType = 'regression')\n",
    "A.strategy(strategyType = 'divergence', actionType = 'unit', entry = 1, exit = 0.2, signalStopLoss = 1.2, stopLossType = 'timeStop', stopLossPara = 3)\n",
    "A.pplot()"
   ]
  },
  {
   "cell_type": "code",
   "execution_count": null,
   "metadata": {},
   "outputs": [],
   "source": [
    "        self.df['A_position'] = actionObject.A_positionList\n",
    "        self.df['B_position']"
   ]
  },
  {
   "cell_type": "code",
   "execution_count": null,
   "metadata": {},
   "outputs": [],
   "source": [
    "currStatus = 0 if (pastStatus == 1 and row['zscore'] < -self.exit) or (pastStatus == -1 and row['zscore'] > self.exit) else 1 if (pastStatus == 1 and row['zscore'] > self.exit or row['zscore'] > self.entry) and row['zscore'] < self.singalStopLoss else 2 if row['zscore'] > self.singalStopLoss else -1 if (pastStatus == -1 and row['zscore'] < -self.exit or row['zscore'] < -self.entry) and row['zscore'] > -self.singalStopLoss else -2 if row['zscore'] < -self.singalStopLoss else 0\n",
    "currStatus = 0 if (pastStatus == 1 and row['zscore'] < -self.exit) or (pastStatus == -1 and row['zscore'] > self.exit) else 1 if (pastStatus == 1 and row['zscore'] > self.exit or row['zscore'] > self.entry) else -1 if (pastStatus == -1 and row['zscore'] < -self.exit or row['zscore'] < -self.entry) else 0"
   ]
  }
 ],
 "metadata": {
  "kernelspec": {
   "display_name": "Python 3 (ipykernel)",
   "language": "python",
   "name": "python3"
  },
  "language_info": {
   "codemirror_mode": {
    "name": "ipython",
    "version": 3
   },
   "file_extension": ".py",
   "mimetype": "text/x-python",
   "name": "python",
   "nbconvert_exporter": "python",
   "pygments_lexer": "ipython3",
   "version": "3.9.7"
  }
 },
 "nbformat": 4,
 "nbformat_minor": 2
}
