{
 "cells": [
  {
   "cell_type": "code",
   "execution_count": 1,
   "metadata": {},
   "outputs": [
    {
     "name": "stderr",
     "output_type": "stream",
     "text": [
      "C:\\ProgramData\\Anaconda3\\lib\\site-packages\\statsmodels\\tools\\_testing.py:19: FutureWarning: pandas.util.testing is deprecated. Use the functions in the public API at pandas.testing instead.\n",
      "  import pandas.util.testing as tm\n"
     ]
    }
   ],
   "source": [
    "import pairTrade\n",
    "from pairTrade import pairTrade\n",
    "import pandas as pd\n",
    "import warnings\n",
    "import pandas.util.testing as tm\n",
    "warnings.filterwarnings('ignore')\n",
    "\n",
    "symbols = pd.read_csv(f\"D:/github/temp/crypto_ohlc_day/symbols.csv\").symbol.tolist()\n",
    "df = ((pd.concat([pd.read_csv(f\"D:/github/temp/crypto_ohlc_day/{symbol}.csv\", index_col='date', parse_dates=True)\n",
    "        ['close'].rename(symbol)for symbol in symbols],axis=1,sort=True)))\n",
    "df = df.loc[:,~df.columns.duplicated()]"
   ]
  },
  {
   "cell_type": "code",
   "execution_count": 2,
   "metadata": {
    "collapsed": true
   },
   "outputs": [
    {
     "data": {
      "text/html": [
       "<div>\n",
       "<style scoped>\n",
       "    .dataframe tbody tr th:only-of-type {\n",
       "        vertical-align: middle;\n",
       "    }\n",
       "\n",
       "    .dataframe tbody tr th {\n",
       "        vertical-align: top;\n",
       "    }\n",
       "\n",
       "    .dataframe thead th {\n",
       "        text-align: right;\n",
       "    }\n",
       "</style>\n",
       "<table border=\"1\" class=\"dataframe\">\n",
       "  <thead>\n",
       "    <tr style=\"text-align: right;\">\n",
       "      <th></th>\n",
       "      <th>BTCUSDT</th>\n",
       "      <th>ETHUSDT</th>\n",
       "      <th>spread</th>\n",
       "      <th>zscore</th>\n",
       "      <th>ASymbolSide</th>\n",
       "      <th>status</th>\n",
       "    </tr>\n",
       "    <tr>\n",
       "      <th>date</th>\n",
       "      <th></th>\n",
       "      <th></th>\n",
       "      <th></th>\n",
       "      <th></th>\n",
       "      <th></th>\n",
       "      <th></th>\n",
       "    </tr>\n",
       "  </thead>\n",
       "  <tbody>\n",
       "    <tr>\n",
       "      <th>2020-02-09</th>\n",
       "      <td>10151.75</td>\n",
       "      <td>228.49</td>\n",
       "      <td>9923.26</td>\n",
       "      <td>1.768396</td>\n",
       "      <td>1</td>\n",
       "      <td>1</td>\n",
       "    </tr>\n",
       "    <tr>\n",
       "      <th>2020-02-10</th>\n",
       "      <td>9851.83</td>\n",
       "      <td>222.89</td>\n",
       "      <td>9628.94</td>\n",
       "      <td>1.076461</td>\n",
       "      <td>1</td>\n",
       "      <td>1</td>\n",
       "    </tr>\n",
       "    <tr>\n",
       "      <th>2020-02-11</th>\n",
       "      <td>10223.08</td>\n",
       "      <td>236.69</td>\n",
       "      <td>9986.39</td>\n",
       "      <td>1.563580</td>\n",
       "      <td>1</td>\n",
       "      <td>1</td>\n",
       "    </tr>\n",
       "    <tr>\n",
       "      <th>2020-02-12</th>\n",
       "      <td>10326.46</td>\n",
       "      <td>265.74</td>\n",
       "      <td>10060.72</td>\n",
       "      <td>1.553895</td>\n",
       "      <td>1</td>\n",
       "      <td>1</td>\n",
       "    </tr>\n",
       "    <tr>\n",
       "      <th>2020-02-13</th>\n",
       "      <td>10229.63</td>\n",
       "      <td>268.32</td>\n",
       "      <td>9961.31</td>\n",
       "      <td>1.273673</td>\n",
       "      <td>1</td>\n",
       "      <td>1</td>\n",
       "    </tr>\n",
       "    <tr>\n",
       "      <th>2020-02-14</th>\n",
       "      <td>10344.36</td>\n",
       "      <td>285.15</td>\n",
       "      <td>10059.21</td>\n",
       "      <td>1.428795</td>\n",
       "      <td>1</td>\n",
       "      <td>1</td>\n",
       "    </tr>\n",
       "    <tr>\n",
       "      <th>2020-02-15</th>\n",
       "      <td>9904.72</td>\n",
       "      <td>264.88</td>\n",
       "      <td>9639.84</td>\n",
       "      <td>0.421240</td>\n",
       "      <td>0</td>\n",
       "      <td>1</td>\n",
       "    </tr>\n",
       "    <tr>\n",
       "      <th>2020-02-16</th>\n",
       "      <td>9917.27</td>\n",
       "      <td>258.85</td>\n",
       "      <td>9658.42</td>\n",
       "      <td>0.390155</td>\n",
       "      <td>0</td>\n",
       "      <td>1</td>\n",
       "    </tr>\n",
       "    <tr>\n",
       "      <th>2020-02-17</th>\n",
       "      <td>9706.00</td>\n",
       "      <td>267.85</td>\n",
       "      <td>9438.15</td>\n",
       "      <td>-0.277676</td>\n",
       "      <td>0</td>\n",
       "      <td>1</td>\n",
       "    </tr>\n",
       "    <tr>\n",
       "      <th>2020-02-18</th>\n",
       "      <td>10164.71</td>\n",
       "      <td>282.61</td>\n",
       "      <td>9882.10</td>\n",
       "      <td>0.920360</td>\n",
       "      <td>1</td>\n",
       "      <td>1</td>\n",
       "    </tr>\n",
       "    <tr>\n",
       "      <th>2020-02-19</th>\n",
       "      <td>9593.79</td>\n",
       "      <td>258.45</td>\n",
       "      <td>9335.34</td>\n",
       "      <td>-0.699748</td>\n",
       "      <td>-1</td>\n",
       "      <td>1</td>\n",
       "    </tr>\n",
       "    <tr>\n",
       "      <th>2020-02-20</th>\n",
       "      <td>9596.42</td>\n",
       "      <td>256.96</td>\n",
       "      <td>9339.46</td>\n",
       "      <td>-0.730396</td>\n",
       "      <td>-1</td>\n",
       "      <td>1</td>\n",
       "    </tr>\n",
       "    <tr>\n",
       "      <th>2020-02-21</th>\n",
       "      <td>9677.05</td>\n",
       "      <td>265.27</td>\n",
       "      <td>9411.78</td>\n",
       "      <td>-0.558880</td>\n",
       "      <td>-1</td>\n",
       "      <td>1</td>\n",
       "    </tr>\n",
       "    <tr>\n",
       "      <th>2020-02-22</th>\n",
       "      <td>9650.86</td>\n",
       "      <td>261.57</td>\n",
       "      <td>9389.29</td>\n",
       "      <td>-0.697643</td>\n",
       "      <td>-1</td>\n",
       "      <td>1</td>\n",
       "    </tr>\n",
       "    <tr>\n",
       "      <th>2020-02-23</th>\n",
       "      <td>9936.40</td>\n",
       "      <td>274.48</td>\n",
       "      <td>9661.92</td>\n",
       "      <td>0.110579</td>\n",
       "      <td>0</td>\n",
       "      <td>1</td>\n",
       "    </tr>\n",
       "  </tbody>\n",
       "</table>\n",
       "</div>"
      ],
      "text/plain": [
       "             BTCUSDT  ETHUSDT    spread    zscore  ASymbolSide  status\n",
       "date                                                                  \n",
       "2020-02-09  10151.75   228.49   9923.26  1.768396            1       1\n",
       "2020-02-10   9851.83   222.89   9628.94  1.076461            1       1\n",
       "2020-02-11  10223.08   236.69   9986.39  1.563580            1       1\n",
       "2020-02-12  10326.46   265.74  10060.72  1.553895            1       1\n",
       "2020-02-13  10229.63   268.32   9961.31  1.273673            1       1\n",
       "2020-02-14  10344.36   285.15  10059.21  1.428795            1       1\n",
       "2020-02-15   9904.72   264.88   9639.84  0.421240            0       1\n",
       "2020-02-16   9917.27   258.85   9658.42  0.390155            0       1\n",
       "2020-02-17   9706.00   267.85   9438.15 -0.277676            0       1\n",
       "2020-02-18  10164.71   282.61   9882.10  0.920360            1       1\n",
       "2020-02-19   9593.79   258.45   9335.34 -0.699748           -1       1\n",
       "2020-02-20   9596.42   256.96   9339.46 -0.730396           -1       1\n",
       "2020-02-21   9677.05   265.27   9411.78 -0.558880           -1       1\n",
       "2020-02-22   9650.86   261.57   9389.29 -0.697643           -1       1\n",
       "2020-02-23   9936.40   274.48   9661.92  0.110579            0       1"
      ]
     },
     "execution_count": 2,
     "metadata": {},
     "output_type": "execute_result"
    }
   ],
   "source": [
    "df1 = df[['BTCUSDT', 'ETHUSDT']]\n",
    "A = pairTrade(df1, 0.5, 0, 1)\n",
    "A.indicator(tradeType = 'spread')\n",
    "A.strategy(strategyType = 'divergence')\n",
    "A.df.iloc[20:35]"
   ]
  },
  {
   "cell_type": "code",
   "execution_count": 3,
   "metadata": {},
   "outputs": [
    {
     "data": {
      "text/plain": [
       "'spread'"
      ]
     },
     "execution_count": 3,
     "metadata": {},
     "output_type": "execute_result"
    }
   ],
   "source": [
    "A.entry"
   ]
  },
  {
   "cell_type": "code",
   "execution_count": null,
   "metadata": {},
   "outputs": [],
   "source": [
    "df1 = df[['BTCUSDT', 'ETHUSDT']]\n",
    "A = pairTrade(df1, 'ratio', 1, 0, 0.5)\n",
    "A.indicator()\n",
    "A.df.iloc[20:35]"
   ]
  },
  {
   "cell_type": "code",
   "execution_count": null,
   "metadata": {},
   "outputs": [],
   "source": [
    "df1 = df[['BTCUSDT', 'ETHUSDT']]\n",
    "A = pairTrade(df1, 'returnSpread', 1, 0, 0.5)\n",
    "A.indicator()\n",
    "A.df.iloc[20:35]"
   ]
  },
  {
   "cell_type": "code",
   "execution_count": null,
   "metadata": {},
   "outputs": [],
   "source": [
    "df1 = df[['BTCUSDT', 'ETHUSDT']]\n",
    "A = pairTrade(df1, 'regression', 1, 0, 0.5)\n",
    "A.indicator()\n",
    "A.df.iloc[20:35]"
   ]
  },
  {
   "cell_type": "code",
   "execution_count": null,
   "metadata": {},
   "outputs": [],
   "source": [
    "37.906059 * 169.49"
   ]
  },
  {
   "cell_type": "code",
   "execution_count": null,
   "metadata": {},
   "outputs": [],
   "source": []
  }
 ],
 "metadata": {
  "kernelspec": {
   "display_name": "Python 3",
   "language": "python",
   "name": "python3"
  },
  "language_info": {
   "codemirror_mode": {
    "name": "ipython",
    "version": 3
   },
   "file_extension": ".py",
   "mimetype": "text/x-python",
   "name": "python",
   "nbconvert_exporter": "python",
   "pygments_lexer": "ipython3",
   "version": "3.7.4"
  }
 },
 "nbformat": 4,
 "nbformat_minor": 2
}
